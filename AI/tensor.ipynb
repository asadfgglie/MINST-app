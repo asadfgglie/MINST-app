{
 "cells": [
  {
   "cell_type": "markdown",
   "metadata": {},
   "source": [
    "##### Import"
   ]
  },
  {
   "cell_type": "code",
   "execution_count": 1,
   "metadata": {},
   "outputs": [],
   "source": [
    "import tensorflow as tf\n",
    "import tensorflow.keras.layers as layers\n",
    "import tensorflow.keras.activations as activations\n",
    "import tensorflow.keras.datasets.mnist as MNIST_data\n",
    "import tensorflow.keras as keras\n",
    "import numpy as np\n",
    "import matplotlib.pyplot as plt\n",
    "import time\n",
    "from ResNet import ResNet\n",
    "def load_model(model_name:str = None):\n",
    "    if model_name == None:\n",
    "        return keras.models.load_model('../models/' + input('model name:'))\n",
    "    else:\n",
    "        return keras.models.load_model('../models/' + model_name)\n",
    "def save_model(model):\n",
    "    tf.saved_model.save(model, '../models/' + model.name)\n",
    "    # model.save()\n",
    "def predict(model, data, index):\n",
    "    return np.argmax(model.predict(data[index:index+1]))\n",
    "def show(data, cmap='gray'):\n",
    "    plt.imshow(data, cmap=cmap)\n",
    "    plt.colorbar()\n",
    "    plt.show(block=True)"
   ]
  },
  {
   "cell_type": "markdown",
   "metadata": {},
   "source": [
    "##### Model 模板"
   ]
  },
  {
   "cell_type": "markdown",
   "metadata": {},
   "source": [
    "> ###### tensorboard --logdir \\<path\\>"
   ]
  },
  {
   "cell_type": "code",
   "execution_count": 2,
   "metadata": {},
   "outputs": [],
   "source": [
    "def create_NN_model(name=None, compile_pramas={}):\n",
    "    m = keras.Sequential([\n",
    "        layers.Flatten(),\n",
    "        layers.Dense(128, activation=activations.relu),\n",
    "        layers.Dense(50, activation=activations.relu),\n",
    "        layers.Dense(10, activation=activations.softmax)\n",
    "    ], name=name)\n",
    "    m.compile(**compile_pramas)\n",
    "\n",
    "    return m"
   ]
  },
  {
   "cell_type": "code",
   "execution_count": 8,
   "metadata": {},
   "outputs": [],
   "source": [
    "def create_CNN_model(name=None, compile_pramas={}):\n",
    "    m = keras.Sequential([\n",
    "        layers.Conv1D(32, 4, activation=activations.relu),\n",
    "        layers.MaxPool1D(4),\n",
    "        layers.Flatten(),\n",
    "        layers.Dense(128, activation=activations.relu),\n",
    "        layers.Dense(50, activation=activations.relu),\n",
    "        layers.Dense(10, activation=activations.softmax)\n",
    "    ], name=name)\n",
    "    m.compile(**compile_pramas)\n",
    "\n",
    "    return m"
   ]
  },
  {
   "cell_type": "markdown",
   "metadata": {},
   "source": [
    "##### 自定義Callback"
   ]
  },
  {
   "cell_type": "code",
   "execution_count": 6,
   "metadata": {},
   "outputs": [],
   "source": [
    "class Callback_log(keras.callbacks.Callback):\n",
    "    def on_epoch_end(self, epoch, logs=None):\n",
    "        print(f'Epoch {epoch} is finished.')\n",
    "        for l in logs.keys():\n",
    "            print(f'{l}: {logs[l]}')\n",
    "        print('='*20)\n",
    "        print()\n",
    "\n",
    "class Callback_log_file(keras.callbacks.Callback):\n",
    "    def __init__(self, name, describe=None):\n",
    "        super().__init__()\n",
    "        self.file_name = name + '.log'\n",
    "        self.model_name = name\n",
    "        self.train_start_time = time.time()\n",
    "        self.describe = describe\n",
    "        self.path = '../logs/' + self.model_name + '/' + self.file_name\n",
    "\n",
    "    def on_train_begin(self, logs=None):\n",
    "        with open(self.path, 'a') as file:\n",
    "            file.write(self.model_name + '\\n\\n')\n",
    "            file.write(f'Train start at {time.strftime(\"%Y-%m-%d %H:%M:%S\", time.localtime())}.\\n\\n')\n",
    "            file.write(f'Describe: {self.describe}.\\n')\n",
    "            file.write('='*20 + '\\n\\n')\n",
    "\n",
    "    def on_epoch_end(self, epoch, logs=None):\n",
    "        with open(self.path, 'a') as file:\n",
    "            file.write(f'Epoch {epoch} is finished.\\n')\n",
    "            for l in logs.keys():\n",
    "                file.write(f'{l}: {logs[l]}\\n')\n",
    "            file.write('='*20 + '\\n\\n')\n",
    "    \n",
    "    def on_train_end(self, logs=None):\n",
    "        with open(self.path, 'a') as file:\n",
    "            for l in logs.keys():\n",
    "                file.write(f'{l}: {logs[l]}\\n')\n",
    "            file.write(f'\\nTrain finish at {time.strftime(\"%Y-%m-%d %H:%M:%S\", time.localtime())}.\\n')\n",
    "            file.write(f'Use times: {time.time() - self.train_start_time} sec.')"
   ]
  },
  {
   "cell_type": "markdown",
   "metadata": {},
   "source": [
    "##### Load MNIST"
   ]
  },
  {
   "cell_type": "code",
   "execution_count": 4,
   "metadata": {},
   "outputs": [],
   "source": [
    "(x_train, y_train), (x_test, y_test) = MNIST_data.load_data()\n",
    "x_train, x_test = x_train / 255.0, x_test / 255.0"
   ]
  },
  {
   "cell_type": "markdown",
   "metadata": {},
   "source": [
    "##### Create model"
   ]
  },
  {
   "cell_type": "markdown",
   "metadata": {},
   "source": [
    "###### NN"
   ]
  },
  {
   "cell_type": "code",
   "execution_count": 5,
   "metadata": {},
   "outputs": [],
   "source": [
    "model = create_NN_model('NN' + time.strftime(\"%Y-%m-%d\", time.localtime()), \n",
    "                        {'optimizer':'adam',\n",
    "                        'loss':'sparse_categorical_crossentropy',\n",
    "                        'metrics':['accuracy']})"
   ]
  },
  {
   "cell_type": "code",
   "execution_count": 15,
   "metadata": {},
   "outputs": [
    {
     "name": "stdout",
     "output_type": "stream",
     "text": [
      "Epoch 1/10\n",
      "600/600 [==============================] - 4s 4ms/step - loss: 0.3131 - accuracy: 0.9101 - val_loss: 0.1413 - val_accuracy: 0.9576\n",
      "Epoch 2/10\n",
      "600/600 [==============================] - 2s 4ms/step - loss: 0.1284 - accuracy: 0.9621 - val_loss: 0.1231 - val_accuracy: 0.9612\n",
      "Epoch 3/10\n",
      "600/600 [==============================] - 2s 4ms/step - loss: 0.0893 - accuracy: 0.9731 - val_loss: 0.0942 - val_accuracy: 0.9702\n",
      "Epoch 4/10\n",
      "600/600 [==============================] - 2s 4ms/step - loss: 0.0676 - accuracy: 0.9797 - val_loss: 0.0803 - val_accuracy: 0.9756\n",
      "Epoch 5/10\n",
      "600/600 [==============================] - 2s 4ms/step - loss: 0.0535 - accuracy: 0.9835 - val_loss: 0.0745 - val_accuracy: 0.9779\n",
      "Epoch 6/10\n",
      "600/600 [==============================] - 2s 4ms/step - loss: 0.0418 - accuracy: 0.9874 - val_loss: 0.0882 - val_accuracy: 0.9734\n",
      "Epoch 7/10\n",
      "600/600 [==============================] - 2s 4ms/step - loss: 0.0357 - accuracy: 0.9888 - val_loss: 0.0773 - val_accuracy: 0.9770\n",
      "Epoch 8/10\n",
      "600/600 [==============================] - 2s 4ms/step - loss: 0.0279 - accuracy: 0.9915 - val_loss: 0.0722 - val_accuracy: 0.9784\n",
      "Epoch 9/10\n",
      "600/600 [==============================] - 2s 4ms/step - loss: 0.0243 - accuracy: 0.9924 - val_loss: 0.0756 - val_accuracy: 0.9791\n",
      "Epoch 10/10\n",
      "600/600 [==============================] - 2s 4ms/step - loss: 0.0212 - accuracy: 0.9936 - val_loss: 0.0755 - val_accuracy: 0.9776\n"
     ]
    }
   ],
   "source": [
    "history = model.fit(x=x_train,\n",
    "                    y=y_train,\n",
    "                    batch_size=100,\n",
    "                    epochs=10,\n",
    "                    validation_data=(x_test, y_test))\n",
    "                    # verbose=0,\n",
    "                    # callbacks=[keras.callbacks.TensorBoard('../logs/' + model.name),\n",
    "                    #            Callback_log_file(model.name, '經典MINST，沒做任何數據前處理，只有將顏色值範圍壓縮至0~1之間'),\n",
    "                    #            Callback_log()], "
   ]
  },
  {
   "cell_type": "code",
   "execution_count": 16,
   "metadata": {},
   "outputs": [
    {
     "data": {
      "image/png": "[encoded data removed]",
      "text/plain": [
       "<IPython.core.display.Image object>"
      ]
     },
     "execution_count": 16,
     "metadata": {},
     "output_type": "execute_result"
    }
   ],
   "source": [
    "# model.summary()\n",
    "keras.utils.plot_model(model, show_shapes=True)"
   ]
  },
  {
   "cell_type": "code",
   "execution_count": null,
   "metadata": {},
   "outputs": [],
   "source": [
    "model.evaluate(x_test, y_test)"
   ]
  },
  {
   "cell_type": "code",
   "execution_count": null,
   "metadata": {},
   "outputs": [],
   "source": [
    "model.save('../models/' + model.name)"
   ]
  },
  {
   "cell_type": "code",
   "execution_count": null,
   "metadata": {},
   "outputs": [],
   "source": [
    "tmp = load_model()"
   ]
  },
  {
   "cell_type": "code",
   "execution_count": null,
   "metadata": {},
   "outputs": [],
   "source": [
    "tmp.evaluate(x_test, y_test)\n",
    "tmp.summary()"
   ]
  },
  {
   "cell_type": "code",
   "execution_count": null,
   "metadata": {},
   "outputs": [],
   "source": [
    "keras.utils.plot_model(tmp)"
   ]
  },
  {
   "cell_type": "markdown",
   "metadata": {},
   "source": [
    "###### CNN"
   ]
  },
  {
   "cell_type": "code",
   "execution_count": 9,
   "metadata": {},
   "outputs": [],
   "source": [
    "model = create_CNN_model('CNN' + time.strftime(\"%Y-%m-%d\", time.localtime()), \n",
    "                        {'optimizer':'adam',\n",
    "                        'loss':'sparse_categorical_crossentropy',\n",
    "                        'metrics':['accuracy']})"
   ]
  },
  {
   "cell_type": "code",
   "execution_count": 11,
   "metadata": {},
   "outputs": [
    {
     "data": {
      "image/png": "[encoded data removed]",
      "text/plain": [
       "<IPython.core.display.Image object>"
      ]
     },
     "execution_count": 11,
     "metadata": {},
     "output_type": "execute_result"
    }
   ],
   "source": [
    "# model.summary()\n",
    "keras.utils.plot_model(model, show_shapes=True)"
   ]
  },
  {
   "cell_type": "code",
   "execution_count": 10,
   "metadata": {},
   "outputs": [
    {
     "name": "stdout",
     "output_type": "stream",
     "text": [
      "Epoch 1/10\n",
      "600/600 [==============================] - 5s 6ms/step - loss: 0.3390 - accuracy: 0.9009 - val_loss: 0.1339 - val_accuracy: 0.9595\n",
      "Epoch 2/10\n",
      "600/600 [==============================] - 3s 6ms/step - loss: 0.1135 - accuracy: 0.9664 - val_loss: 0.0821 - val_accuracy: 0.9757\n",
      "Epoch 3/10\n",
      "600/600 [==============================] - 3s 5ms/step - loss: 0.0804 - accuracy: 0.9753 - val_loss: 0.0650 - val_accuracy: 0.9793\n",
      "Epoch 4/10\n",
      "600/600 [==============================] - 3s 6ms/step - loss: 0.0638 - accuracy: 0.9806 - val_loss: 0.0587 - val_accuracy: 0.9816\n",
      "Epoch 5/10\n",
      "600/600 [==============================] - 3s 6ms/step - loss: 0.0520 - accuracy: 0.9836 - val_loss: 0.0477 - val_accuracy: 0.9849\n",
      "Epoch 6/10\n",
      "600/600 [==============================] - 3s 5ms/step - loss: 0.0458 - accuracy: 0.9852 - val_loss: 0.0467 - val_accuracy: 0.9846\n",
      "Epoch 7/10\n",
      "600/600 [==============================] - 3s 5ms/step - loss: 0.0383 - accuracy: 0.9879 - val_loss: 0.0532 - val_accuracy: 0.9834\n",
      "Epoch 8/10\n",
      "600/600 [==============================] - 3s 5ms/step - loss: 0.0348 - accuracy: 0.9887 - val_loss: 0.0573 - val_accuracy: 0.9810\n",
      "Epoch 9/10\n",
      "600/600 [==============================] - 3s 5ms/step - loss: 0.0307 - accuracy: 0.9902 - val_loss: 0.0433 - val_accuracy: 0.9858\n",
      "Epoch 10/10\n",
      "600/600 [==============================] - 3s 5ms/step - loss: 0.0271 - accuracy: 0.9908 - val_loss: 0.0453 - val_accuracy: 0.9857\n"
     ]
    }
   ],
   "source": [
    "history = model.fit(x=x_train,\n",
    "                    y=y_train,\n",
    "                    batch_size=100,\n",
    "                    epochs=10,\n",
    "                    validation_data=(x_test, y_test))\n",
    "                #     verbose=0,\n",
    "                #     callbacks=[keras.callbacks.TensorBoard('../logs/' + model.name),\n",
    "                #                Callback_log_file(model.name, '經典MINST，沒做任何數據前處理，只有將顏色值範圍壓縮至0~1之間'),\n",
    "                #                Callback_log()], "
   ]
  },
  {
   "cell_type": "code",
   "execution_count": null,
   "metadata": {},
   "outputs": [],
   "source": [
    "save_model(model)"
   ]
  },
  {
   "cell_type": "markdown",
   "metadata": {},
   "source": [
    "##### Predict"
   ]
  },
  {
   "cell_type": "code",
   "execution_count": null,
   "metadata": {},
   "outputs": [],
   "source": [
    "stringlist = []\n",
    "model.summary(print_fn=lambda x: stringlist.append(x))\n",
    "short_model_summary = \"\\n\".join(stringlist)\n",
    "print(short_model_summary)"
   ]
  },
  {
   "cell_type": "code",
   "execution_count": null,
   "metadata": {},
   "outputs": [],
   "source": [
    "model = load_model('CNN2021-11-14')\n",
    "model.summary()\n",
    "model.input_shape"
   ]
  },
  {
   "cell_type": "code",
   "execution_count": null,
   "metadata": {},
   "outputs": [],
   "source": [
    "index = []\n",
    "for i in range(0, len(x_train)):\n",
    "    if predict(model, x_train, i) != y_train[i]:\n",
    "        index.append(i)\n",
    "        print('Index:', i)\n",
    "        print('Predict:', predict(model, x_train, i))\n",
    "        print('Answer:', y_train[i])\n",
    "        show(x_train[i])\n",
    "print(index)"
   ]
  },
  {
   "cell_type": "code",
   "execution_count": null,
   "metadata": {},
   "outputs": [],
   "source": [
    "index_test = []\n",
    "for i in range(0, len(x_test)):\n",
    "    if predict(model, x_test, i) != y_test[i]:\n",
    "        index_test.append(i)\n",
    "        print('Index:', i)\n",
    "        print('Predict:', predict(model, x_test, i))\n",
    "        print('Answer:', y_test[i])\n",
    "        show(x_test[i])\n",
    "print(index_test)"
   ]
  },
  {
   "cell_type": "code",
   "execution_count": null,
   "metadata": {},
   "outputs": [],
   "source": [
    "show(x_train[0])"
   ]
  },
  {
   "cell_type": "code",
   "execution_count": null,
   "metadata": {},
   "outputs": [],
   "source": [
    "import random\n",
    "i = []\n",
    "o = []\n",
    "for j in range(20):\n",
    "    i.append(random.randint(0, 9))\n",
    "    o.append(random.randint(0, 9))\n",
    "\n",
    "i.sort()\n",
    "o.sort()\n",
    "inputTensor = np.array(i)\n",
    "outputTensor = np.array(o)"
   ]
  },
  {
   "cell_type": "code",
   "execution_count": null,
   "metadata": {},
   "outputs": [],
   "source": [
    "w = layers.Dense(1)\n",
    "layers.Dense.add_weight(w, name=\"W/read\")\n",
    "b = layers.Dense(1, name=\"b/read\")\n",
    "\n",
    "test_model = keras.Sequential([\n",
    "    layers.InputLayer((1), name=\"Input\"),\n",
    "    w,\n",
    "    b\n",
    "], name=\"test\")\n",
    "test_model.compile()"
   ]
  },
  {
   "cell_type": "code",
   "execution_count": null,
   "metadata": {},
   "outputs": [],
   "source": [
    "test_model.build((None, 1))"
   ]
  },
  {
   "cell_type": "code",
   "execution_count": null,
   "metadata": {},
   "outputs": [],
   "source": [
    "test_model.fit(inputTensor, outputTensor, epochs=1)"
   ]
  },
  {
   "cell_type": "code",
   "execution_count": null,
   "metadata": {},
   "outputs": [],
   "source": [
    "test_model.input_shape"
   ]
  },
  {
   "cell_type": "code",
   "execution_count": null,
   "metadata": {},
   "outputs": [],
   "source": [
    "save_model(test_model)"
   ]
  }
 ],
 "metadata": {
  "interpreter": {
   "hash": "eb1ea86b0aaf7b356e69c1ebfb99e15de84e3edbe8cf57f664daa638cdde139c"
  },
  "kernelspec": {
   "display_name": "Python 3.9.7 64-bit (conda)",
   "language": "python",
   "name": "python3"
  },
  "language_info": {
   "codemirror_mode": {
    "name": "ipython",
    "version": 3
   },
   "file_extension": ".py",
   "mimetype": "text/x-python",
   "name": "python",
   "nbconvert_exporter": "python",
   "pygments_lexer": "ipython3",
   "version": "3.9.7"
  },
  "orig_nbformat": 4
 },
 "nbformat": 4,
 "nbformat_minor": 2
}
